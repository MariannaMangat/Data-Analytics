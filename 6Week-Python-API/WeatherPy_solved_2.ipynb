{
 "cells": [
  {
   "cell_type": "markdown",
   "metadata": {},
   "source": [
    "# WeatherPy Analysis\n",
    "\n",
    "* Add analysis here"
   ]
  },
  {
   "cell_type": "code",
   "execution_count": 25,
   "metadata": {},
   "outputs": [],
   "source": [
    "import random\n",
    "import numpy as np\n",
    "import pandas as pd\n",
    "import matplotlib.pyplot as plt\n",
    "import seaborn as sbn\n",
    "import requests\n",
    "import time\n",
    "import json\n",
    "from citipy import citipy\n",
    "from math import sqrt\n",
    "from datetime import datetime    \n",
    "from config import openweatherkey\n",
    "from pprint import pprint"
   ]
  },
  {
   "cell_type": "code",
   "execution_count": 47,
   "metadata": {},
   "outputs": [
    {
     "name": "stdout",
     "output_type": "stream",
     "text": [
      "[{'city': 'pimentel', 'country': 'pe', 'lat': -7, 'lng': -81},\n",
      " {'city': 'kapaa', 'country': 'us', 'lat': 36, 'lng': -165},\n",
      " {'city': 'yellowknife', 'country': 'ca', 'lat': 73, 'lng': -105},\n",
      " {'city': 'kapaa', 'country': 'us', 'lat': 38, 'lng': -159},\n",
      " {'city': 'toliary', 'country': 'mg', 'lat': -25, 'lng': 41}]\n"
     ]
    }
   ],
   "source": [
    "city_list = []\n",
    "\n",
    "while len(city_list) < 5:\n",
    "    lat = (random.choice(range(-90,90)))\n",
    "    lng = (random.choice(range(-180,180)))\n",
    "    city = citipy.nearest_city(lat, lng)\n",
    "    \n",
    "    city_dict = {}\n",
    "    city_dict['city'] = city.city_name\n",
    "    city_dict['country'] = city.country_code\n",
    "    city_dict['lat'] = lat\n",
    "    city_dict['lng'] = lng\n",
    "    \n",
    "    if city not in city_list:\n",
    "        city_list.append(city_dict)\n",
    "            \n",
    "            \n",
    "# pprint(city_list[4]['city'])   \n",
    "pprint(city_list)"
   ]
  },
  {
   "cell_type": "code",
   "execution_count": 76,
   "metadata": {},
   "outputs": [
    {
     "name": "stdout",
     "output_type": "stream",
     "text": [
      "64.4\n",
      "76.01\n",
      "53.6\n",
      "76.01\n"
     ]
    },
    {
     "ename": "KeyError",
     "evalue": "'main'",
     "output_type": "error",
     "traceback": [
      "\u001b[1;31m---------------------------------------------------------------------------\u001b[0m",
      "\u001b[1;31mKeyError\u001b[0m                                  Traceback (most recent call last)",
      "\u001b[1;32m<ipython-input-76-15a8236e891c>\u001b[0m in \u001b[0;36m<module>\u001b[1;34m()\u001b[0m\n\u001b[0;32m     40\u001b[0m \u001b[1;33m\u001b[0m\u001b[0m\n\u001b[0;32m     41\u001b[0m     \u001b[0mcount_city\u001b[0m \u001b[1;33m+=\u001b[0m \u001b[1;36m1\u001b[0m\u001b[1;33m\u001b[0m\u001b[0m\n\u001b[1;32m---> 42\u001b[1;33m     \u001b[0mprint\u001b[0m\u001b[1;33m(\u001b[0m\u001b[0mjson_req\u001b[0m\u001b[1;33m[\u001b[0m\u001b[1;34m'main'\u001b[0m\u001b[1;33m]\u001b[0m\u001b[1;33m[\u001b[0m\u001b[1;34m'temp'\u001b[0m\u001b[1;33m]\u001b[0m\u001b[1;33m)\u001b[0m\u001b[1;33m\u001b[0m\u001b[0m\n\u001b[0m\u001b[0;32m     43\u001b[0m \u001b[1;31m#     print(query)\u001b[0m\u001b[1;33m\u001b[0m\u001b[1;33m\u001b[0m\u001b[0m\n\u001b[0;32m     44\u001b[0m \u001b[1;31m# How to print the last index?\u001b[0m\u001b[1;33m\u001b[0m\u001b[1;33m\u001b[0m\u001b[0m\n",
      "\u001b[1;31mKeyError\u001b[0m: 'main'"
     ]
    }
   ],
   "source": [
    "# Build url to request data for 500x \n",
    "\n",
    "# Set up API url request\n",
    "api_key = openweatherkey\n",
    "url = \"http://api.openweathermap.org/data/2.5/weather?q=\"\n",
    "\n",
    "# api.openweathermap.org/data/2.5/weather?q={city name},{country code)\n",
    "\n",
    "# query_url = f'{url}appid={api_key}&units=imperial&q='\n",
    "\n",
    "# coordinates['Temp'] = ''\n",
    "# coordinates['Hum'] = ''\n",
    "# coordinates['Cloud'] = ''\n",
    "# coordinates['Wind'] = ''\n",
    "\n",
    "# pull_counter = 0\n",
    "\n",
    "# for index, row in coordinates.iterrows():\n",
    "#     try: \n",
    "#         query = url + row[\"City\"].replace(\" \",\"+\") + \",\" + row[\"Country\"] + \"&appid=\" + api_key + \"&units=imperial\"\n",
    "#         json_req = requests.get(query).json()\n",
    "         \n",
    "#         coordinates.at[index, 'Temp'] = json_req['main']['temp']\n",
    "#         coordinates.at[index, 'Hum'] = json_req['main']['humidity']\n",
    "#         coordinates.at[index, 'Cloud'] = json_req['clouds']['all']\n",
    "#         coordinates.at[index, 'Wind'] = json_req['wind']['speed']\n",
    "#     except:\n",
    "#         pass    \n",
    "#     pull_counter += 1\n",
    "count_city = 0\n",
    "\n",
    "for city in city_list[count_city]:\n",
    "    query = url + city_list[count_city][\"city\"].replace(\" \",\"+\") + \",\" + city_list[count_city][\"country\"] + \"&appid=\" + api_key + \"&units=imperial\"\n",
    "    json_req = requests.get(query).json()\n",
    "   \n",
    "    \n",
    "#     except:\n",
    "#         pass       \n",
    "        \n",
    "    \n",
    "    count_city += 1\n",
    "    print(json_req['main']['temp'])\n",
    "#     print(query)    \n",
    "\n",
    "# How to print the last index?\n",
    "    \n",
    "# pprint(city_list)\n",
    "        \n",
    "\n"
   ]
  },
  {
   "cell_type": "code",
   "execution_count": null,
   "metadata": {},
   "outputs": [],
   "source": [
    "#     print(f\"Retrieving records for city #{str(pull_counter)} | {row['City']}, {row['Country']}\")\n",
    "# #     of Set {str(batch_counter)}\n",
    "#     print(query)\n"
   ]
  },
  {
   "cell_type": "code",
   "execution_count": null,
   "metadata": {},
   "outputs": [],
   "source": []
  },
  {
   "cell_type": "code",
   "execution_count": 63,
   "metadata": {},
   "outputs": [
    {
     "ename": "NameError",
     "evalue": "name 'citylist' is not defined",
     "output_type": "error",
     "traceback": [
      "\u001b[1;31m---------------------------------------------------------------------------\u001b[0m",
      "\u001b[1;31mNameError\u001b[0m                                 Traceback (most recent call last)",
      "\u001b[1;32m<ipython-input-63-769373dd45a3>\u001b[0m in \u001b[0;36m<module>\u001b[1;34m()\u001b[0m\n\u001b[0;32m      1\u001b[0m \u001b[1;31m# # Build DF\u001b[0m\u001b[1;33m\u001b[0m\u001b[1;33m\u001b[0m\u001b[0m\n\u001b[0;32m      2\u001b[0m citypd = pd.DataFrame({\n\u001b[1;32m----> 3\u001b[1;33m     \u001b[1;34m'city'\u001b[0m\u001b[1;33m:\u001b[0m \u001b[1;33m[\u001b[0m\u001b[0mx\u001b[0m\u001b[1;33m[\u001b[0m\u001b[1;34m'city'\u001b[0m\u001b[1;33m]\u001b[0m \u001b[1;32mfor\u001b[0m \u001b[0mx\u001b[0m \u001b[1;32min\u001b[0m \u001b[0mcitylist\u001b[0m\u001b[1;33m]\u001b[0m\u001b[1;33m,\u001b[0m\u001b[1;33m\u001b[0m\u001b[0m\n\u001b[0m\u001b[0;32m      4\u001b[0m     \u001b[1;34m'country'\u001b[0m\u001b[1;33m:\u001b[0m \u001b[1;33m[\u001b[0m\u001b[0mx\u001b[0m\u001b[1;33m[\u001b[0m\u001b[1;34m'country'\u001b[0m\u001b[1;33m]\u001b[0m \u001b[1;32mfor\u001b[0m \u001b[0mx\u001b[0m \u001b[1;32min\u001b[0m \u001b[0mcitylist\u001b[0m\u001b[1;33m]\u001b[0m\u001b[1;33m,\u001b[0m\u001b[1;33m\u001b[0m\u001b[0m\n\u001b[0;32m      5\u001b[0m })\n",
      "\u001b[1;31mNameError\u001b[0m: name 'citylist' is not defined"
     ]
    }
   ],
   "source": [
    "# # Build DF\n",
    "# s"
   ]
  },
  {
   "cell_type": "code",
   "execution_count": null,
   "metadata": {},
   "outputs": [],
   "source": []
  }
 ],
 "metadata": {
  "kernelspec": {
   "display_name": "Python 3",
   "language": "python",
   "name": "python3"
  },
  "language_info": {
   "codemirror_mode": {
    "name": "ipython",
    "version": 3
   },
   "file_extension": ".py",
   "mimetype": "text/x-python",
   "name": "python",
   "nbconvert_exporter": "python",
   "pygments_lexer": "ipython3",
   "version": "3.6.4"
  }
 },
 "nbformat": 4,
 "nbformat_minor": 2
}
